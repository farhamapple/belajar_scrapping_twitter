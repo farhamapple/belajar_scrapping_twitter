{
 "cells": [
  {
   "cell_type": "markdown",
   "metadata": {},
   "source": [
    "Scrapping Twitter"
   ]
  },
  {
   "cell_type": "code",
   "execution_count": 1,
   "metadata": {},
   "outputs": [],
   "source": [
    "from twython import Twython\n",
    "import json"
   ]
  },
  {
   "cell_type": "code",
   "execution_count": 3,
   "metadata": {},
   "outputs": [],
   "source": [
    "TWITTER_APP_KEY = '1UZSO7SwT0FlhvksWEsworCaH'\n",
    "TWITTER_APP_KEY_SECRET = 'NsUkNxnGc47GzNGsGzbDMp3igPdcxEr1ie4gHXCqiMmRXeOzCW' \n",
    "TWITTER_ACCESS_TOKEN = '107575546-jBUVz4cixdr2DR7omHoKS3bXu4GRi79sSsC3HXkh'\n",
    "TWITTER_ACCESS_TOKEN_SECRET = 'NlCxIVdNqvlC5mKae06tliGVcy4nh2INcGM2BHl1IvQUP'\n",
    "\n",
    "koneksi_ke_twython = Twython(app_key=TWITTER_APP_KEY, app_secret=TWITTER_APP_KEY_SECRET, oauth_token=TWITTER_ACCESS_TOKEN, oauth_token_secret=TWITTER_ACCESS_TOKEN_SECRET)"
   ]
  },
  {
   "cell_type": "code",
   "execution_count": 4,
   "metadata": {},
   "outputs": [],
   "source": [
    "term = 'Kecelakaan'\n",
    "tweet_metadatas = koneksi_ke_twython.search(q=term,count=100,result_type='recent')"
   ]
  },
  {
   "cell_type": "code",
   "execution_count": 7,
   "metadata": {},
   "outputs": [
    {
     "name": "stdout",
     "output_type": "stream",
     "text": [
      "{'created_at': 'Tue Oct 20 07:51:54 +0000 2020', 'id': 1318459917288706048, 'id_str': '1318459917288706048', 'text': '\"Ini bukan kecelakaan \" Conan Edogawa', 'truncated': False, 'entities': {'hashtags': [], 'symbols': [], 'user_mentions': [], 'urls': []}, 'metadata': {'iso_language_code': 'in', 'result_type': 'recent'}, 'source': '<a href=\"http://twittbot.net/\" rel=\"nofollow\">twittbot.net</a>', 'in_reply_to_status_id': None, 'in_reply_to_status_id_str': None, 'in_reply_to_user_id': None, 'in_reply_to_user_id_str': None, 'in_reply_to_screen_name': None, 'user': {'id': 577052451, 'id_str': '577052451', 'name': 'Anime Kingdom', 'screen_name': 'AnimeKingdom_', 'location': 'Japan', 'description': 'Admin : #Yata #Fushimi #Moru #Shirakiin(Founder)\\r\\n\\r\\nTempat otaku yang nyantai', 'url': None, 'entities': {'description': {'urls': []}}, 'protected': False, 'followers_count': 98, 'friends_count': 48, 'listed_count': 3, 'created_at': 'Fri May 11 08:46:14 +0000 2012', 'favourites_count': 1, 'utc_offset': None, 'time_zone': None, 'geo_enabled': False, 'verified': False, 'statuses_count': 21407, 'lang': None, 'contributors_enabled': False, 'is_translator': False, 'is_translation_enabled': False, 'profile_background_color': 'C0DEED', 'profile_background_image_url': 'http://abs.twimg.com/images/themes/theme1/bg.png', 'profile_background_image_url_https': 'https://abs.twimg.com/images/themes/theme1/bg.png', 'profile_background_tile': True, 'profile_image_url': 'http://pbs.twimg.com/profile_images/2826295410/48e2a64b3e0f3bb91844c694ea3a97e7_normal.jpeg', 'profile_image_url_https': 'https://pbs.twimg.com/profile_images/2826295410/48e2a64b3e0f3bb91844c694ea3a97e7_normal.jpeg', 'profile_banner_url': 'https://pbs.twimg.com/profile_banners/577052451/1352452220', 'profile_link_color': '0084B4', 'profile_sidebar_border_color': 'FFFFFF', 'profile_sidebar_fill_color': 'DDEEF6', 'profile_text_color': '333333', 'profile_use_background_image': True, 'has_extended_profile': False, 'default_profile': False, 'default_profile_image': False, 'following': False, 'follow_request_sent': False, 'notifications': False, 'translator_type': 'none'}, 'geo': None, 'coordinates': None, 'place': None, 'contributors': None, 'is_quote_status': False, 'retweet_count': 0, 'favorite_count': 0, 'favorited': False, 'retweeted': False, 'lang': 'in'}\n"
     ]
    }
   ],
   "source": [
    "print(tweet_metadatas['statuses'][0])"
   ]
  },
  {
   "cell_type": "code",
   "execution_count": 8,
   "metadata": {},
   "outputs": [
    {
     "name": "stdout",
     "output_type": "stream",
     "text": [
      "\"Ini bukan kecelakaan \" Conan Edogawa\n"
     ]
    }
   ],
   "source": [
    "print(tweet_metadatas['statuses'][0]['text'])"
   ]
  },
  {
   "cell_type": "code",
   "execution_count": 9,
   "metadata": {},
   "outputs": [
    {
     "name": "stdout",
     "output_type": "stream",
     "text": [
      "Astagfirullah, Begini Penampakan Mobil Ketua DPC Gerindra dan Wakil Ketua DPRD Pekalongan Yang Tewas Kecelakaan Mau… https://t.co/6ROYfF41yR\n"
     ]
    }
   ],
   "source": [
    "print(tweet_metadatas['statuses'][1]['text'])"
   ]
  },
  {
   "cell_type": "code",
   "execution_count": 18,
   "metadata": {},
   "outputs": [
    {
     "name": "stdout",
     "output_type": "stream",
     "text": [
      "AnimeKingdom_\n"
     ]
    }
   ],
   "source": [
    "print(tweet_metadatas['statuses'][0]['user']['screen_name'])"
   ]
  },
  {
   "cell_type": "code",
   "execution_count": 19,
   "metadata": {},
   "outputs": [
    {
     "name": "stdout",
     "output_type": "stream",
     "text": [
      "48 98\n"
     ]
    }
   ],
   "source": [
    "print(tweet_metadatas['statuses'][0]['user']['friends_count'],tweet_metadatas['statuses'][0]['user']['followers_count'],)"
   ]
  },
  {
   "cell_type": "code",
   "execution_count": 22,
   "metadata": {},
   "outputs": [],
   "source": [
    "data_list = []\n",
    "\n",
    "for tweet in tweet_metadatas['statuses']:\n",
    "    meta = dict()\n",
    "    meta['tweet'] = tweet['text']\n",
    "    meta['timestamp'] = tweet['created_at']\n",
    "    meta['username'] = tweet['user']['screen_name']\n",
    "    meta['jumlah_teman'] = tweet['user']['friends_count']\n",
    "    meta['jumlah_follower'] = tweet['user']['followers_count']\n",
    "    data_list.append(meta)"
   ]
  },
  {
   "cell_type": "code",
   "execution_count": 23,
   "metadata": {},
   "outputs": [
    {
     "name": "stdout",
     "output_type": "stream",
     "text": [
      "[{'tweet': '\"Ini bukan kecelakaan \" Conan Edogawa', 'timestamp': 'Tue Oct 20 07:51:54 +0000 2020', 'username': 'AnimeKingdom_', 'jumlah_teman': 48, 'jumlah_follower': 98}, {'tweet': 'Astagfirullah, Begini Penampakan Mobil Ketua DPC Gerindra dan Wakil Ketua DPRD Pekalongan Yang Tewas Kecelakaan Mau… https://t.co/6ROYfF41yR', 'timestamp': 'Tue Oct 20 07:47:12 +0000 2020', 'username': 'Joglosemarnews', 'jumlah_teman': 35, 'jumlah_follower': 538}, {'tweet': '@Maisarahkrm Rip member semoga kecelakaan first week dilupakan semua orang 🤣', 'timestamp': 'Tue Oct 20 07:46:36 +0000 2020', 'username': 'athirahjhr', 'jumlah_teman': 285, 'jumlah_follower': 1050}, {'tweet': 'Personil melakukan penimbunan bekas tumpahan minyak solar di jalan jend sudirman yg bs mengakibatkan kecelakaan https://t.co/AQnOrZeYbK', 'timestamp': 'Tue Oct 20 07:43:57 +0000 2020', 'username': 'TMC_PKU', 'jumlah_teman': 197, 'jumlah_follower': 770}, {'tweet': 'RT @montirmotor: @Ygmasihfuckgirl Terlepas dari kesalahan atau kecelakaan, yang tulus gaakan mempermasalahkan itu, hidup sama pasangan masa…', 'timestamp': 'Tue Oct 20 07:43:40 +0000 2020', 'username': 'Ygmasihfuckgirl', 'jumlah_teman': 1913, 'jumlah_follower': 1970}, {'tweet': '@lemonice619 Hahahahahahahhaha ye cha. 🤣 Tahu tu. Tapi part yg pasal ada perkara perkara yg dilindungi tu. Aku baru… https://t.co/Km8K4tCdI8', 'timestamp': 'Tue Oct 20 07:43:40 +0000 2020', 'username': 'BoyieAR', 'jumlah_teman': 672, 'jumlah_follower': 1123}, {'tweet': 'Kayaknya ada yang kurang deh Siaran Pers nya ??\\n\"Untuk kaum kadrun dilarang melintas di Jalan Joko Widodo,  karena… https://t.co/S5UWZhdhQd', 'timestamp': 'Tue Oct 20 07:43:10 +0000 2020', 'username': 'mumungwisnu_1', 'jumlah_teman': 536, 'jumlah_follower': 246}, {'tweet': 'Personil melakukan penimbunan bekas tumpahan solar di jalan sudirman yg bs mengakibatkan kecelakaan https://t.co/8NtmfjIblM', 'timestamp': 'Tue Oct 20 07:42:38 +0000 2020', 'username': 'TMC_PKU', 'jumlah_teman': 197, 'jumlah_follower': 770}, {'tweet': 'RT @bwd12: #JokowiBerbuatUntukRakyat \\n\\nManfaat UKM..\\n\\nMeningkatkan produktifitas. Sebagian pemilik\\xa0UKM\\xa0merupakan pelaku usaha mandiri. ...…', 'timestamp': 'Tue Oct 20 07:42:36 +0000 2020', 'username': 'imanhidayat1280', 'jumlah_teman': 4997, 'jumlah_follower': 677}, {'tweet': '@Ygmasihfuckgirl Terlepas dari kesalahan atau kecelakaan, yang tulus gaakan mempermasalahkan itu, hidup sama pasang… https://t.co/jwHRN5Gdfz', 'timestamp': 'Tue Oct 20 07:37:40 +0000 2020', 'username': 'montirmotor', 'jumlah_teman': 332, 'jumlah_follower': 431}, {'tweet': 'RT @RadioElshinta: 05.28: RT @TMCPoldaMetro : Kecelakaan Out Of Control sebuah Truk B 9758 PYX mengakibatkan menabrak sebuah angkutan umum…', 'timestamp': 'Tue Oct 20 07:32:40 +0000 2020', 'username': 'FarhanF83325726', 'jumlah_teman': 401, 'jumlah_follower': 20}, {'tweet': 'RT @TofaTofa_id: Kendaraan yg nabrak Mas Hanafi Rais kabur. Lalu kendaraan yang di tertabrak Mobil Mas Hanafi juga kabur. Lokasi kecelakaan…', 'timestamp': 'Tue Oct 20 07:31:59 +0000 2020', 'username': 'AnnisaK03107740', 'jumlah_teman': 145, 'jumlah_follower': 80}, {'tweet': '@unknown_blank0 @SilalahiJanna @arifintensi @novitad29102010 @detikcom Tetep kena pasal kelalaian yg mengakibatkan… https://t.co/s0rVVjFZtq', 'timestamp': 'Tue Oct 20 07:28:59 +0000 2020', 'username': 'Dodik85972254', 'jumlah_teman': 93, 'jumlah_follower': 6}, {'tweet': 'RT @MaspiyuO: Ayo Mengaku, Siapa Tabrak Mobil Hanafi bin Amien Rais? Kecelakaan Atau Sengaja? https://t.co/v5jyV0X6ol https://t.co/eLQ34GYa…', 'timestamp': 'Tue Oct 20 07:27:56 +0000 2020', 'username': 'ARahmansyah79', 'jumlah_teman': 873, 'jumlah_follower': 773}, {'tweet': 'Kecelakaan, Ketua DPC Gerindra Pekalongan Meninggal Dunia https://t.co/ZKMbc8R1L9', 'timestamp': 'Tue Oct 20 07:27:40 +0000 2020', 'username': 'Leeolanq', 'jumlah_teman': 511, 'jumlah_follower': 514}, {'tweet': '#News: 33 Tahun Tragedi Kecelakaan Kereta Api Bintaro, 19 Oktober 1987-19 Oktober 2020 https://t.co/dchWQt3qKp | Kabar Tangsel', 'timestamp': 'Tue Oct 20 07:26:38 +0000 2020', 'username': 'InfoPondokCabe', 'jumlah_teman': 38, 'jumlah_follower': 8810}, {'tweet': 'Jabatan Kasat Reskrim Polresta Mamuju sempat kosong usai pejabat sebelumnya meninggal dunia karena kecelakaan lalu… https://t.co/C8tzdz8mYk', 'timestamp': 'Tue Oct 20 07:24:04 +0000 2020', 'username': 'kumparan', 'jumlah_teman': 2, 'jumlah_follower': 562688}, {'tweet': 'Satlantas Polres Pasuruan melaksanakan giat rutin Pemasangan Stiker \"AYO PAKAI MASKER\" pada Kendaraan Bermotor Peng… https://t.co/HhJEKFfCDw', 'timestamp': 'Tue Oct 20 07:22:15 +0000 2020', 'username': 'tmc_respas', 'jumlah_teman': 76, 'jumlah_follower': 1812}, {'tweet': 'Satlantas Polres Pasuruan melaksanakan giat rutin Pemasangan Stiker \"AYO PAKAI MASKER\" pada Kendaraan Bermotor Peng… https://t.co/95yzcPqyPo', 'timestamp': 'Tue Oct 20 07:21:50 +0000 2020', 'username': 'tmc_respas', 'jumlah_teman': 76, 'jumlah_follower': 1812}, {'tweet': 'Satlantas Polres Pasuruan melaksanakan giat rutin Pemasangan Stiker \"AYO PAKAI MASKER\" pada Kendaraan Bermotor Peng… https://t.co/GhPQbvWxqf', 'timestamp': 'Tue Oct 20 07:21:42 +0000 2020', 'username': 'tmc_respas', 'jumlah_teman': 76, 'jumlah_follower': 1812}, {'tweet': 'Satlantas Polres Pasuruan melaksanakan giat rutin Pemasangan Stiker \"AYO PAKAI MASKER\" pada Kendaraan Bermotor Peng… https://t.co/mupXeqZL8F', 'timestamp': 'Tue Oct 20 07:21:34 +0000 2020', 'username': 'tmc_respas', 'jumlah_teman': 76, 'jumlah_follower': 1812}, {'tweet': 'Satlantas Polres Pasuruan melaksanakan giat rutin Pemasangan Stiker \"AYO PAKAI MASKER\" pada Kendaraan Bermotor Dina… https://t.co/dSvEuIOHSd', 'timestamp': 'Tue Oct 20 07:21:25 +0000 2020', 'username': 'tmc_respas', 'jumlah_teman': 76, 'jumlah_follower': 1812}, {'tweet': 'Satlantas Polres Pasuruan melaksanakan giat rutin Pemasangan Stiker \"AYO PAKAI MASKER\" pada Kendaraan Bermotor Dina… https://t.co/YXFkEf5pYD', 'timestamp': 'Tue Oct 20 07:21:15 +0000 2020', 'username': 'tmc_respas', 'jumlah_teman': 76, 'jumlah_follower': 1812}, {'tweet': 'Satlantas Polres Pasuruan melaksanakan giat rutin Pemasangan Stiker \"AYO PAKAI MASKER\" pada Kendaraan Bermotor Dina… https://t.co/n2k2bLeOPh', 'timestamp': 'Tue Oct 20 07:21:07 +0000 2020', 'username': 'tmc_respas', 'jumlah_teman': 76, 'jumlah_follower': 1812}, {'tweet': 'Satlantas Polres Pasuruan melaksanakan giat rutin Pemasangan Stiker \"AYO PAKAI MASKER\" pada Kendaraan Bermotor Dina… https://t.co/cjGkXHWJO0', 'timestamp': 'Tue Oct 20 07:20:58 +0000 2020', 'username': 'tmc_respas', 'jumlah_teman': 76, 'jumlah_follower': 1812}, {'tweet': 'Satlantas Polres Pasuruan melaksanakan giat rutin Pemasangan Stiker \"AYO PAKAI MASKER\" pada Kendaraan Bermotor Dina… https://t.co/xMJKSf5nzq', 'timestamp': 'Tue Oct 20 07:20:45 +0000 2020', 'username': 'tmc_respas', 'jumlah_teman': 76, 'jumlah_follower': 1812}, {'tweet': 'Satlantas Polres Pasuruan melaksanakan giat rutin Pemasangan Stiker \"AYO PAKAI MASKER\" pada Kendaraan Bermotor Dina… https://t.co/8Ocz3tmaYX', 'timestamp': 'Tue Oct 20 07:20:10 +0000 2020', 'username': 'tmc_respas', 'jumlah_teman': 76, 'jumlah_follower': 1812}, {'tweet': 'Abis dari dukcapil terus tbtb dia bilang \"Mba laper, makan yuk\" Pdhl lukanya belum kering Abis kecelakaan\\nPas sampe… https://t.co/OVAdZZrqRw', 'timestamp': 'Tue Oct 20 07:19:38 +0000 2020', 'username': 'honeeybee__', 'jumlah_teman': 97, 'jumlah_follower': 367}, {'tweet': 'RT @TirtoID: Tragedi Bintaro adalah kecelakaan kereta api paling mengerikan yang terjadi pada Senin pagi, 19 Oktober 1987, tepat hari ini 3…', 'timestamp': 'Tue Oct 20 07:16:52 +0000 2020', 'username': 'cacingantz', 'jumlah_teman': 306, 'jumlah_follower': 301}, {'tweet': 'RT @bwd12: #JokowiBerbuatUntukRakyat \\n\\nManfaat UKM..\\n\\nMeningkatkan produktifitas. Sebagian pemilik\\xa0UKM\\xa0merupakan pelaku usaha mandiri. ...…', 'timestamp': 'Tue Oct 20 07:15:04 +0000 2020', 'username': 'RonaldLampard8', 'jumlah_teman': 3290, 'jumlah_follower': 4380}, {'tweet': 'Aturan jaminan sosial bagi pekerja tetap ada diantaranya jaminan kesehatan, jaminan kecelakaan kerja, jaminan hari… https://t.co/CeBvSaYb5Z', 'timestamp': 'Tue Oct 20 07:13:34 +0000 2020', 'username': 'bayiklucu', 'jumlah_teman': 40, 'jumlah_follower': 31}, {'tweet': 'RT @txtdarijonggol_: Cocok didengarkan saat hujan sambil nonton video kecelakaan lalu lintas di youtube. 🥴\\nWqwqwqwqwqwlwlwlwl https://t.co/…', 'timestamp': 'Tue Oct 20 07:09:49 +0000 2020', 'username': '1esmelon', 'jumlah_teman': 66, 'jumlah_follower': 101}, {'tweet': '@andalasfess setidaknya ban mobil/motor ku gak kempes dan menghindari kecelakaan karna banyak jalan yang tidak rata… https://t.co/goGXNS54oT', 'timestamp': 'Tue Oct 20 07:09:32 +0000 2020', 'username': 'atelier_801', 'jumlah_teman': 53, 'jumlah_follower': 35}, {'tweet': 'RT @VIVAcoid: Mobil Arogan! Ambulans Bawa Korban Kecelakaan Dihalang-halangi https://t.co/AIzoIeHLcm', 'timestamp': 'Tue Oct 20 07:09:02 +0000 2020', 'username': 'vivanewscom', 'jumlah_teman': 7, 'jumlah_follower': 9337}, {'tweet': '@sabrina_whd Hah keseret? Kecelakaan?', 'timestamp': 'Tue Oct 20 07:08:43 +0000 2020', 'username': 'Kentang127', 'jumlah_teman': 701, 'jumlah_follower': 569}, {'tweet': 'Mobil Arogan! Ambulans Bawa Korban Kecelakaan Dihalang-halangi https://t.co/AIzoIeHLcm', 'timestamp': 'Tue Oct 20 07:08:32 +0000 2020', 'username': 'VIVAcoid', 'jumlah_teman': 21, 'jumlah_follower': 4236980}, {'tweet': '@wahyuariyantn_ @bacaanhoror @threadhoror ni emang horor pls tempatny, rame setan😁👍 hampir mau kecelakaan disini tp untung masi selamat', 'timestamp': 'Tue Oct 20 07:07:20 +0000 2020', 'username': 'jejeebaiq', 'jumlah_teman': 487, 'jumlah_follower': 486}, {'tweet': 'inget mulu tu kecelakaan :) \\n\\nYa tp bru kawin larinya https://t.co/56XdaEWAtu', 'timestamp': 'Tue Oct 20 07:05:47 +0000 2020', 'username': 'Changminties', 'jumlah_teman': 3372, 'jumlah_follower': 3600}, {'tweet': 'RT @klinikhukum: Meminta ganti rugi karena menabrak motor yang ngerem mendadak dan menyebabkan kecelakaan lalu lintas, apakah termasuk peme…', 'timestamp': 'Tue Oct 20 07:05:08 +0000 2020', 'username': 'pakoebuwono', 'jumlah_teman': 1365, 'jumlah_follower': 320}, {'tweet': 'bs ga si gue mati kecelakaan aja atau sasaran tembak meleset atau apa gt biar gue gausa repot2 bunuh diri', 'timestamp': 'Tue Oct 20 07:05:00 +0000 2020', 'username': 'iklimaalviani', 'jumlah_teman': 222, 'jumlah_follower': 160}, {'tweet': 'RT @TofaTofa_id: Kendaraan yg nabrak Mas Hanafi Rais kabur. Lalu kendaraan yang di tertabrak Mobil Mas Hanafi juga kabur. Lokasi kecelakaan…', 'timestamp': 'Tue Oct 20 07:01:13 +0000 2020', 'username': 'netijenomous', 'jumlah_teman': 331, 'jumlah_follower': 396}, {'tweet': 'RT @bwd12: #JokowiBerbuatUntukRakyat \\n\\nManfaat UKM..\\n\\nMeningkatkan produktifitas. Sebagian pemilik\\xa0UKM\\xa0merupakan pelaku usaha mandiri. ...…', 'timestamp': 'Tue Oct 20 07:01:13 +0000 2020', 'username': 'guhendulenlove', 'jumlah_teman': 217, 'jumlah_follower': 444}, {'tweet': 'Mengalami Kecelakaan, Segera Lindungi Dengan Asuransi Personal Care https://t.co/PK5IP4owdE https://t.co/7cTWgXo7SE', 'timestamp': 'Tue Oct 20 07:01:06 +0000 2020', 'username': '1yangterpenting', 'jumlah_teman': 209, 'jumlah_follower': 51}, {'tweet': '@Febipurnamazaka Harusnya kalimat \"kaya oppa² korea\" nya dihapuskan karena yang oplas hanya orang tertentu aja gak… https://t.co/j5cscvZFoD', 'timestamp': 'Tue Oct 20 07:00:34 +0000 2020', 'username': 'Knfxon', 'jumlah_teman': 542, 'jumlah_follower': 191}, {'tweet': 'RT @e100ss: 13.40: Info awal: Kecelakaan beruntun di Tol Waru - Dupak KM 11 melibatkan enam kendaraan antara lain truk tangki, truk muat pa…', 'timestamp': 'Tue Oct 20 06:59:10 +0000 2020', 'username': 'fedriza', 'jumlah_teman': 340, 'jumlah_follower': 205}, {'tweet': 'BERANI2NYA LALAT TERBANG BEBAS DI BAWAH HIDUNG GW WAKTU LG NAPAS BANGSAAAAT BENER2 IN THE MIDDLE OF THE CLASS GW KECELAKAAN', 'timestamp': 'Tue Oct 20 06:54:16 +0000 2020', 'username': 'alyaxabila', 'jumlah_teman': 431, 'jumlah_follower': 1481}, {'tweet': 'Cocok didengarkan saat hujan sambil nonton video kecelakaan lalu lintas di youtube. 🥴\\nWqwqwqwqwqwlwlwlwl https://t.co/ZvL5IQZaGP', 'timestamp': 'Tue Oct 20 06:53:23 +0000 2020', 'username': 'txtdarijonggol_', 'jumlah_teman': 89, 'jumlah_follower': 140}, {'tweet': 'RT @historia_id: 19 Oktober 1987 Tragedi Bintaro menewaskan ratusan orang. Kecelakaan kereta api terburuk dalam sejarah Indonesia. Apa hal…', 'timestamp': 'Tue Oct 20 06:52:53 +0000 2020', 'username': 'neskidchan', 'jumlah_teman': 383, 'jumlah_follower': 297}, {'tweet': 'Abis nonton kisah tanah jawa - tragedi bintaro, terus mikir.. Kira² apa ya penyebab dibalik kecelakaan, i mean asli… https://t.co/KA18sIsSiw', 'timestamp': 'Tue Oct 20 06:52:21 +0000 2020', 'username': 'notyourwinda', 'jumlah_teman': 133, 'jumlah_follower': 479}, {'tweet': '@Bananasplitshi1 @jajanbhlabels Aku sempet beli album disc ktown sm dia terus emg dia smpt kecelakaan jdi smpt lama… https://t.co/XalHz6P8Pd', 'timestamp': 'Tue Oct 20 06:52:02 +0000 2020', 'username': 'luvlykr', 'jumlah_teman': 22, 'jumlah_follower': 172}, {'tweet': 'Kecelakaan di Tol Solo Ngawi Ketua DPC Gerindra Pekalongan Meninggal\\xa0Dunia https://t.co/Cw18m3GuQq', 'timestamp': 'Tue Oct 20 06:51:24 +0000 2020', 'username': 'BimataIndonesia', 'jumlah_teman': 64, 'jumlah_follower': 69}, {'tweet': 'RT @e100ss: 13.40: Info awal: Kecelakaan beruntun di Tol Waru - Dupak KM 11 melibatkan enam kendaraan antara lain truk tangki, truk muat pa…', 'timestamp': 'Tue Oct 20 06:49:49 +0000 2020', 'username': 'BaelishTheKing', 'jumlah_teman': 111, 'jumlah_follower': 31}, {'tweet': '@thisischall nggak usah gitu deh, pura2 kecelakaan aja\\nterus bilang lagi di rumah, ada nggak tuh yg nengok ?', 'timestamp': 'Tue Oct 20 06:47:50 +0000 2020', 'username': 'nnovallll', 'jumlah_teman': 3274, 'jumlah_follower': 3342}, {'tweet': 'Kronologi kecelakaan aing:( https://t.co/y3tWyshqpl', 'timestamp': 'Tue Oct 20 06:47:16 +0000 2020', 'username': 'vanxxrev', 'jumlah_teman': 114, 'jumlah_follower': 68}, {'tweet': '@Lyasulaiman Aku sedih bener pas dia ngalamin kecelakaan kapal itu huhuhuhu.', 'timestamp': 'Tue Oct 20 06:45:42 +0000 2020', 'username': 'Omnduut', 'jumlah_teman': 1819, 'jumlah_follower': 2894}, {'tweet': 'Kecelakaan, Ketua DPC Gerindra Pekalongan Meninggal\\xa0Dunia https://t.co/47mSizSmnH', 'timestamp': 'Tue Oct 20 06:45:39 +0000 2020', 'username': 'hajinewsonline', 'jumlah_teman': 3, 'jumlah_follower': 88}, {'tweet': '@sebeltweet @narkobars Gila Itu mah korban kecelakaan faketaxi', 'timestamp': 'Tue Oct 20 06:45:05 +0000 2020', 'username': 'termantap_', 'jumlah_teman': 41, 'jumlah_follower': 17}, {'tweet': 'Mobil patwal Bupati Lampung Selatan dengan nomor polisi BE-9074-DZ menabrak dua sepeda motor di Jalan Poros Desa Ba… https://t.co/caxvhU1o5e', 'timestamp': 'Tue Oct 20 06:44:22 +0000 2020', 'username': 'lampostco', 'jumlah_teman': 4774, 'jumlah_follower': 2353}, {'tweet': '@mochipeachyea itu katanya kecelakaan tapi kecelakaan mlu baca di replynya 🤧', 'timestamp': 'Tue Oct 20 06:44:01 +0000 2020', 'username': 'nauranaw_', 'jumlah_teman': 358, 'jumlah_follower': 222}, {'tweet': 'Pemotor Tewas Kecelakaan di Jalan Serpong\\xa0 |  https://t.co/wIaOwfp0sJ lewat @tangerangnews', 'timestamp': 'Tue Oct 20 06:43:11 +0000 2020', 'username': 'tangerangnews', 'jumlah_teman': 3109, 'jumlah_follower': 15147}, {'tweet': '@1998ur_ Mencium bau-bau kecelakaan, tapi jangan kasian ntar j i s u n g nya', 'timestamp': 'Tue Oct 20 06:42:48 +0000 2020', 'username': 'Bubblegum01207', 'jumlah_teman': 591, 'jumlah_follower': 257}, {'tweet': '@strayselling Gue pake binder aman.. kmu kecelakaan kek gmn??', 'timestamp': 'Tue Oct 20 06:42:08 +0000 2020', 'username': 'wolfie_rayen', 'jumlah_teman': 2604, 'jumlah_follower': 512}, {'tweet': '@kangsemproel Ini téh ✈ yang \"disetrap\" gara-gara kesalahan software yang menyebabkan kecelakaan di +62 dan Ethiopia.', 'timestamp': 'Tue Oct 20 06:42:06 +0000 2020', 'username': 'kangoedinnet', 'jumlah_teman': 416, 'jumlah_follower': 548}, {'tweet': '13.40: Info awal: Kecelakaan beruntun di Tol Waru - Dupak KM 11 melibatkan enam kendaraan antara lain truk tangki,… https://t.co/K8wozdxfX5', 'timestamp': 'Tue Oct 20 06:41:51 +0000 2020', 'username': 'e100ss', 'jumlah_teman': 39, 'jumlah_follower': 806744}, {'tweet': 'RT @eLFathir_: TEST URINE  | \\n.\\n.\\n.\\n.\\n.\\ncc @DivHumas_Polri @INFOBNN \\nhttps://t.co/Ejq2OZa7yI', 'timestamp': 'Tue Oct 20 06:41:37 +0000 2020', 'username': 'savagemaniac7', 'jumlah_teman': 113, 'jumlah_follower': 32}, {'tweet': 'Pemasangan kaca cermin cembung di jl. pamekar raya RW 02 oleh Dinas Pehubungan Kota Bandung antisipasi kecelakaan b… https://t.co/aX5aTVLb5X', 'timestamp': 'Tue Oct 20 06:40:25 +0000 2020', 'username': 'kmekarmulya1', 'jumlah_teman': 525, 'jumlah_follower': 739}, {'tweet': '@mochipeachyea Yahhhh katanya owner-nya lagi kecelakaan gitu makanya slowrespon', 'timestamp': 'Tue Oct 20 06:39:31 +0000 2020', 'username': 'saturnuje', 'jumlah_teman': 1164, 'jumlah_follower': 1070}, {'tweet': 'RT @siliddddd: TWITTER PLEASE DO YOUR MAGIC !!\\nIni adekku habis kecelakaan di sawah. Ceritanya dia bantuin bapak pasang mesin pompa air di…', 'timestamp': 'Tue Oct 20 06:38:34 +0000 2020', 'username': 'ica_icy', 'jumlah_teman': 1768, 'jumlah_follower': 1947}, {'tweet': 'Kecelakaan di Tol, Wakil Ketua DPRD Pekalongan Meninggal https://t.co/cNsnAwd50K', 'timestamp': 'Tue Oct 20 06:38:10 +0000 2020', 'username': 'Detakjatengnews', 'jumlah_teman': 7, 'jumlah_follower': 384}, {'tweet': '@Meviiaa1 rawan kecelakaan ta?', 'timestamp': 'Tue Oct 20 06:37:47 +0000 2020', 'username': 'topleskongwan', 'jumlah_teman': 652, 'jumlah_follower': 663}, {'tweet': 'Melaksanakan Patroli malam di tempat-tempat rawan kecelakaan dan mengantisipasi terjadinya balapan liar. https://t.co/jX1STa8h80', 'timestamp': 'Tue Oct 20 06:37:42 +0000 2020', 'username': 'KonawePolres', 'jumlah_teman': 5, 'jumlah_follower': 14}, {'tweet': 'RT @SoniaNurita: IWAN FALS\\n1910\\n\\nTRAGEDI BINTARO\\n\\nSenin pagi 33 tahun yang lalu.dua buah kereta api bertabrakan di Pondok Betung, Bintaro.…', 'timestamp': 'Tue Oct 20 06:36:42 +0000 2020', 'username': 'Anjay_Cuk', 'jumlah_teman': 51, 'jumlah_follower': 18}, {'tweet': 'Pengaturan Arus Lalu Lintas di tempat- tempat rawan macet dan kecelakaan lalu lintas. https://t.co/CEFTlDlJSP', 'timestamp': 'Tue Oct 20 06:36:19 +0000 2020', 'username': 'KonawePolres', 'jumlah_teman': 5, 'jumlah_follower': 14}, {'tweet': 'Kayak baru keluar dari GUA, yg gak tau apa-apa tapi diluar riuh sekali membicaran 1 topik, semua berbicara tentang… https://t.co/YfJjfVstyB', 'timestamp': 'Tue Oct 20 06:35:42 +0000 2020', 'username': 'Silmuttt', 'jumlah_teman': 48, 'jumlah_follower': 126}, {'tweet': 'Patroli Hunting System dan Penindakan Tilang terhadap pelangar yang tidak memakai helm dan melawan arus lalu lintas… https://t.co/nTUJ2ck8T7', 'timestamp': 'Tue Oct 20 06:33:15 +0000 2020', 'username': 'KonawePolres', 'jumlah_teman': 5, 'jumlah_follower': 14}, {'tweet': '@WDilatanti @Daeng_Info Nda macet mi kyaknya. Ada kecelakaan kecil td yg bkin macet', 'timestamp': 'Tue Oct 20 06:28:38 +0000 2020', 'username': 'rafiuddinanwar', 'jumlah_teman': 173, 'jumlah_follower': 23}, {'tweet': 'RT @historia_id: 19 Oktober 1987 Tragedi Bintaro menewaskan ratusan orang. Kecelakaan kereta api terburuk dalam sejarah Indonesia. Apa hal…', 'timestamp': 'Tue Oct 20 06:27:23 +0000 2020', 'username': 'gempyor', 'jumlah_teman': 439, 'jumlah_follower': 496}, {'tweet': '@Amaaisan pernah tau di tempat gw ada yang meninggal karna kecelakaan terus setelah di kuburin malem nya gentayanga… https://t.co/FZiZQqqmSS', 'timestamp': 'Tue Oct 20 06:27:05 +0000 2020', 'username': 'siapakamuv', 'jumlah_teman': 122, 'jumlah_follower': 106}, {'tweet': 'RT @eLFathir_: TEST URINE  | \\n.\\n.\\n.\\n.\\n.\\ncc @DivHumas_Polri @INFOBNN \\nhttps://t.co/Ejq2OZa7yI', 'timestamp': 'Tue Oct 20 06:27:05 +0000 2020', 'username': 'bekti781', 'jumlah_teman': 266, 'jumlah_follower': 108}, {'tweet': 'Ketua Gerindra Pekalongan Tewas Kecelakaan di Tol Solo-Ngawi https://t.co/vwHgTZUBy6', 'timestamp': 'Tue Oct 20 06:26:33 +0000 2020', 'username': 'CNNIndonesia', 'jumlah_teman': 26, 'jumlah_follower': 1257134}, {'tweet': 'OPERASI ZEBRA TURANGGA 2020\\nAKAN DILAKSANAKAN SERENTAK      SELAMA 14 HARI\\n     STOP PELANGGARAN\\n            STOP K… https://t.co/l1K9nNmIXN', 'timestamp': 'Tue Oct 20 06:26:22 +0000 2020', 'username': 'lantas_ngada', 'jumlah_teman': 126, 'jumlah_follower': 275}, {'tweet': '\"katanya kamu kemarin kecelakaan\" \"iya\" \"kok gak ada lukanya\" \"ada nih stretch mark\"', 'timestamp': 'Tue Oct 20 06:25:27 +0000 2020', 'username': 'm_baguspambudi', 'jumlah_teman': 2247, 'jumlah_follower': 2071}, {'tweet': '#18AgainEp9 bs2 nya daeyoung kecelakaan 😭', 'timestamp': 'Tue Oct 20 06:25:27 +0000 2020', 'username': 'luv_L97', 'jumlah_teman': 150, 'jumlah_follower': 36}, {'tweet': 'RT @kompascom: Seorang sopir ojek online berinisial RR (38) mengalami kecelakaan hingga masuk ke Saluran Penghubung (PHB) Karang Tengah, Le…', 'timestamp': 'Tue Oct 20 06:24:11 +0000 2020', 'username': 'dododominggus', 'jumlah_teman': 588, 'jumlah_follower': 311}]\n"
     ]
    }
   ],
   "source": [
    "print(data_list)"
   ]
  },
  {
   "cell_type": "code",
   "execution_count": 24,
   "metadata": {},
   "outputs": [
    {
     "data": {
      "text/html": [
       "<div>\n",
       "<style scoped>\n",
       "    .dataframe tbody tr th:only-of-type {\n",
       "        vertical-align: middle;\n",
       "    }\n",
       "\n",
       "    .dataframe tbody tr th {\n",
       "        vertical-align: top;\n",
       "    }\n",
       "\n",
       "    .dataframe thead th {\n",
       "        text-align: right;\n",
       "    }\n",
       "</style>\n",
       "<table border=\"1\" class=\"dataframe\">\n",
       "  <thead>\n",
       "    <tr style=\"text-align: right;\">\n",
       "      <th></th>\n",
       "      <th>tweet</th>\n",
       "      <th>timestamp</th>\n",
       "      <th>username</th>\n",
       "      <th>jumlah_teman</th>\n",
       "      <th>jumlah_follower</th>\n",
       "    </tr>\n",
       "  </thead>\n",
       "  <tbody>\n",
       "    <tr>\n",
       "      <th>0</th>\n",
       "      <td>\"Ini bukan kecelakaan \" Conan Edogawa</td>\n",
       "      <td>Tue Oct 20 07:51:54 +0000 2020</td>\n",
       "      <td>AnimeKingdom_</td>\n",
       "      <td>48</td>\n",
       "      <td>98</td>\n",
       "    </tr>\n",
       "    <tr>\n",
       "      <th>1</th>\n",
       "      <td>Astagfirullah, Begini Penampakan Mobil Ketua D...</td>\n",
       "      <td>Tue Oct 20 07:47:12 +0000 2020</td>\n",
       "      <td>Joglosemarnews</td>\n",
       "      <td>35</td>\n",
       "      <td>538</td>\n",
       "    </tr>\n",
       "    <tr>\n",
       "      <th>2</th>\n",
       "      <td>@Maisarahkrm Rip member semoga kecelakaan firs...</td>\n",
       "      <td>Tue Oct 20 07:46:36 +0000 2020</td>\n",
       "      <td>athirahjhr</td>\n",
       "      <td>285</td>\n",
       "      <td>1050</td>\n",
       "    </tr>\n",
       "    <tr>\n",
       "      <th>3</th>\n",
       "      <td>Personil melakukan penimbunan bekas tumpahan m...</td>\n",
       "      <td>Tue Oct 20 07:43:57 +0000 2020</td>\n",
       "      <td>TMC_PKU</td>\n",
       "      <td>197</td>\n",
       "      <td>770</td>\n",
       "    </tr>\n",
       "    <tr>\n",
       "      <th>4</th>\n",
       "      <td>RT @montirmotor: @Ygmasihfuckgirl Terlepas dar...</td>\n",
       "      <td>Tue Oct 20 07:43:40 +0000 2020</td>\n",
       "      <td>Ygmasihfuckgirl</td>\n",
       "      <td>1913</td>\n",
       "      <td>1970</td>\n",
       "    </tr>\n",
       "  </tbody>\n",
       "</table>\n",
       "</div>"
      ],
      "text/plain": [
       "                                               tweet  \\\n",
       "0              \"Ini bukan kecelakaan \" Conan Edogawa   \n",
       "1  Astagfirullah, Begini Penampakan Mobil Ketua D...   \n",
       "2  @Maisarahkrm Rip member semoga kecelakaan firs...   \n",
       "3  Personil melakukan penimbunan bekas tumpahan m...   \n",
       "4  RT @montirmotor: @Ygmasihfuckgirl Terlepas dar...   \n",
       "\n",
       "                        timestamp         username  jumlah_teman  \\\n",
       "0  Tue Oct 20 07:51:54 +0000 2020    AnimeKingdom_            48   \n",
       "1  Tue Oct 20 07:47:12 +0000 2020   Joglosemarnews            35   \n",
       "2  Tue Oct 20 07:46:36 +0000 2020       athirahjhr           285   \n",
       "3  Tue Oct 20 07:43:57 +0000 2020          TMC_PKU           197   \n",
       "4  Tue Oct 20 07:43:40 +0000 2020  Ygmasihfuckgirl          1913   \n",
       "\n",
       "   jumlah_follower  \n",
       "0               98  \n",
       "1              538  \n",
       "2             1050  \n",
       "3              770  \n",
       "4             1970  "
      ]
     },
     "execution_count": 24,
     "metadata": {},
     "output_type": "execute_result"
    }
   ],
   "source": [
    "import pandas as pando\n",
    "data = pando.DataFrame(data_list)\n",
    "data.head()"
   ]
  },
  {
   "cell_type": "code",
   "execution_count": 25,
   "metadata": {},
   "outputs": [],
   "source": [
    "writer = pando.ExcelWriter('scrap_twitter_kecelakaan.xlsx')\n",
    "data.to_excel(writer,'Sheet1',index=False)\n",
    "writer.save()"
   ]
  },
  {
   "cell_type": "code",
   "execution_count": null,
   "metadata": {},
   "outputs": [],
   "source": []
  }
 ],
 "metadata": {
  "kernelspec": {
   "display_name": "Python 3",
   "language": "python",
   "name": "python3"
  },
  "language_info": {
   "codemirror_mode": {
    "name": "ipython",
    "version": 3
   },
   "file_extension": ".py",
   "mimetype": "text/x-python",
   "name": "python",
   "nbconvert_exporter": "python",
   "pygments_lexer": "ipython3",
   "version": "3.8.3"
  }
 },
 "nbformat": 4,
 "nbformat_minor": 4
}
